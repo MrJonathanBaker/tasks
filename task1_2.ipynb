{
 "cells": [
  {
   "cell_type": "markdown",
   "id": "f9add585",
   "metadata": {},
   "source": [
    "## Задание 1\n"
   ]
  },
  {
   "cell_type": "code",
   "execution_count": 5,
   "id": "4c2c6d0e",
   "metadata": {},
   "outputs": [
    {
     "name": "stdout",
     "output_type": "stream",
     "text": [
      "Введите строку: здравствуйте\n",
      "привет\n"
     ]
    }
   ],
   "source": [
    "text = input(\"Введите строку: \")\n",
    "\n",
    "if text == \"привет\" or text == \"здравствуйте\":\n",
    "    print(\"привет\")\n",
    "    "
   ]
  },
  {
   "cell_type": "markdown",
   "id": "fcffa4f2",
   "metadata": {},
   "source": [
    "## Задание 2\n"
   ]
  },
  {
   "cell_type": "code",
   "execution_count": 3,
   "id": "9714390c",
   "metadata": {},
   "outputs": [
    {
     "name": "stdout",
     "output_type": "stream",
     "text": [
      "1\n",
      "1\n",
      "3\n",
      "5\n",
      "7\n",
      "8\n",
      "9\n",
      "0\n",
      "58\n",
      "\n",
      "66\n"
     ]
    }
   ],
   "source": [
    "summ = 0\n",
    "a = 0\n",
    "while a != \"\":\n",
    "    if int(a) %2 == 0:\n",
    "        summ += int(a)\n",
    "    a = input()\n",
    "print(summ)"
   ]
  },
  {
   "cell_type": "code",
   "execution_count": 4,
   "id": "883fb213",
   "metadata": {},
   "outputs": [
    {
     "name": "stdout",
     "output_type": "stream",
     "text": [
      "Введите число: 5\n",
      "Введите число: 25\n",
      "Введите число: 215\n",
      "Введите число: 25\n",
      "Введите число: 25\n",
      "Введите число: 1\n",
      "Введите число: 2\n",
      "Введите число: 3\n",
      "Введите число: 6\n",
      "Введите число: 8\n",
      "Введите число: 44\n",
      "Введите число: 58\n",
      "Введите число: \n",
      "Сумма четных чисел:  118\n"
     ]
    }
   ],
   "source": [
    "total = 0\n",
    "\n",
    "while True:\n",
    "    num = input(\"Введите число: \")\n",
    "    if not num:\n",
    "        break\n",
    "    if int(num) % 2 == 0:\n",
    "        total += int(num)\n",
    "\n",
    "if total == 0:\n",
    "    print(\"0\")\n",
    "else:\n",
    "    print(\"Сумма четных чисел: \", total)"
   ]
  },
  {
   "cell_type": "code",
   "execution_count": null,
   "id": "d2d2bc78",
   "metadata": {},
   "outputs": [],
   "source": []
  }
 ],
 "metadata": {
  "kernelspec": {
   "display_name": "Python 3 (ipykernel)",
   "language": "python",
   "name": "python3"
  },
  "language_info": {
   "codemirror_mode": {
    "name": "ipython",
    "version": 3
   },
   "file_extension": ".py",
   "mimetype": "text/x-python",
   "name": "python",
   "nbconvert_exporter": "python",
   "pygments_lexer": "ipython3",
   "version": "3.9.13"
  }
 },
 "nbformat": 4,
 "nbformat_minor": 5
}
