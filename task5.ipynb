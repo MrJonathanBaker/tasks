{
 "cells": [
  {
   "cell_type": "markdown",
   "id": "3377f4bf",
   "metadata": {},
   "source": [
    "## Задание 5"
   ]
  },
  {
   "cell_type": "code",
   "execution_count": 1,
   "id": "91e62fb6",
   "metadata": {},
   "outputs": [
    {
     "name": "stdout",
     "output_type": "stream",
     "text": [
      "Введите 5 чисел через пробел: 95 18 20 36 11\n",
      "95\n",
      "36\n",
      "20\n",
      "18\n",
      "11\n"
     ]
    }
   ],
   "source": [
    "numbers = input(\"Введите 5 чисел через пробел: \").split() # считываем числа и разбиваем строку на список\n",
    "\n",
    "numbers = [int(num) for num in numbers] # преобразуем все элементы списка в целочисленный тип\n",
    "\n",
    "numbers.sort(reverse=True) # сортируем список в обратном порядке\n",
    "\n",
    "for num in numbers:\n",
    "    print(num) # выводим каждое число на новой строке"
   ]
  },
  {
   "cell_type": "code",
   "execution_count": null,
   "id": "48f74a4e",
   "metadata": {},
   "outputs": [],
   "source": []
  }
 ],
 "metadata": {
  "kernelspec": {
   "display_name": "Python 3 (ipykernel)",
   "language": "python",
   "name": "python3"
  },
  "language_info": {
   "codemirror_mode": {
    "name": "ipython",
    "version": 3
   },
   "file_extension": ".py",
   "mimetype": "text/x-python",
   "name": "python",
   "nbconvert_exporter": "python",
   "pygments_lexer": "ipython3",
   "version": "3.9.13"
  }
 },
 "nbformat": 4,
 "nbformat_minor": 5
}
