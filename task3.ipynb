{
 "cells": [
  {
   "cell_type": "markdown",
   "id": "5984fa31",
   "metadata": {},
   "source": [
    "## Задание 3"
   ]
  },
  {
   "cell_type": "code",
   "execution_count": 2,
   "id": "8d326b90",
   "metadata": {},
   "outputs": [
    {
     "name": "stdout",
     "output_type": "stream",
     "text": [
      "Введите строку: Привет, я Таня\n",
      "Привет,*я*Таня\n"
     ]
    }
   ],
   "source": [
    "string = input(\"Введите строку: \")\n",
    "string = \" \".join(string.split()) # удаление пробелов в начале и конце строки\n",
    "string = string.replace(\"  \", \"*\") # замена подряд идущих пробелов на *\n",
    "string = string.replace(\" \", \"*\") # замена оставшихся пробелов на *\n",
    "print(string)"
   ]
  },
  {
   "cell_type": "code",
   "execution_count": null,
   "id": "6ac21ee9",
   "metadata": {},
   "outputs": [],
   "source": []
  }
 ],
 "metadata": {
  "kernelspec": {
   "display_name": "Python 3 (ipykernel)",
   "language": "python",
   "name": "python3"
  },
  "language_info": {
   "codemirror_mode": {
    "name": "ipython",
    "version": 3
   },
   "file_extension": ".py",
   "mimetype": "text/x-python",
   "name": "python",
   "nbconvert_exporter": "python",
   "pygments_lexer": "ipython3",
   "version": "3.9.13"
  }
 },
 "nbformat": 4,
 "nbformat_minor": 5
}
