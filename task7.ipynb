{
 "cells": [
  {
   "cell_type": "markdown",
   "id": "d5ee6f4c",
   "metadata": {},
   "source": [
    "## Задание 7"
   ]
  },
  {
   "cell_type": "code",
   "execution_count": 1,
   "id": "d27a0b0e",
   "metadata": {},
   "outputs": [
    {
     "name": "stdout",
     "output_type": "stream",
     "text": [
      "Введите слова через запятую с пробелом: тТри, четверти, своего, дохода, он, расходовал, на, питание, а, одну, четверть, на, костюмы, Дон, Кихот, жил, в, доме, со, своей, молодой, племянницей, и, двумя, слугами, жена, или, дети, не, упоминаются, в, свои, годы, он, отличался, отменным, здоровьем, рано, вставал, и, увлекался, охотой, Однако, в, какой-то, момент, своей, жизни, он, настолько, увлёкся, рыцарскими, романами, что, охота, и, все, прочие, занятия, отошли, для, него, на, второй, план, Тогда, он, стал, одержим, идеей, стать, странствующим, рыцарем\n",
      "он: 4\n",
      "на: 3\n",
      "в: 3\n"
     ]
    }
   ],
   "source": [
    "words = input(\"Введите слова через запятую с пробелом: \").split(\", \")\n",
    "\n",
    "word_count = {}\n",
    "\n",
    "for word in words:\n",
    "    if word in word_count:\n",
    "        word_count[word] += 1\n",
    "    else:\n",
    "        word_count[word] = 1\n",
    "\n",
    "sorted_word_count = sorted(word_count.items(), key=lambda x: x[1], reverse=True)\n",
    "\n",
    "for i in range(3):\n",
    "    word = sorted_word_count[i][0]\n",
    "    count = sorted_word_count[i][1]\n",
    "    print(f\"{word}: {count}\")"
   ]
  },
  {
   "cell_type": "code",
   "execution_count": null,
   "id": "c4f67fb3",
   "metadata": {},
   "outputs": [],
   "source": []
  }
 ],
 "metadata": {
  "kernelspec": {
   "display_name": "Python 3 (ipykernel)",
   "language": "python",
   "name": "python3"
  },
  "language_info": {
   "codemirror_mode": {
    "name": "ipython",
    "version": 3
   },
   "file_extension": ".py",
   "mimetype": "text/x-python",
   "name": "python",
   "nbconvert_exporter": "python",
   "pygments_lexer": "ipython3",
   "version": "3.9.13"
  }
 },
 "nbformat": 4,
 "nbformat_minor": 5
}
