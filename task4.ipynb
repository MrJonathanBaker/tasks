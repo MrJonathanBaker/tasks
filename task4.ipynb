{
 "cells": [
  {
   "cell_type": "markdown",
   "id": "1e65e342",
   "metadata": {},
   "source": [
    "## Задание 4"
   ]
  },
  {
   "cell_type": "code",
   "execution_count": 1,
   "id": "17c47076",
   "metadata": {},
   "outputs": [
    {
     "name": "stdout",
     "output_type": "stream",
     "text": [
      "Введите строку: О жизни Дон Кихота до начала его странствий известно мало. Он жил в деревне в провинции Ламанча, был разорившимся дворянином, на момент начала повествования ему около пятидесяти лет. Три четверти своего дохода он расходовал на питание, а одну четверть — на костюмы. Дон Кихот жил в доме со своей молодой племянницей и двумя слугами, жена или дети не упоминаются. В свои годы он отличался отменным здоровьем, рано вставал и увлекался охотой. Однако в какой-то момент своей жизни он настолько увлёкся рыцарскими романами, что охота и все прочие занятия отошли для него на второй план. Тогда он стал одержим идеей стать странствующим рыцарем.\n",
      "Введите подстроку: он\n",
      "Дон\n",
      "он\n",
      "Дон\n",
      "он\n",
      "он\n",
      "он\n"
     ]
    }
   ],
   "source": [
    "string = input(\"Введите строку: \")\n",
    "substring = input(\"Введите подстроку: \")\n",
    "\n",
    "words = string.split() # разбиваем строку на слова\n",
    "\n",
    "for word in words:\n",
    "    if substring in word: # проверяем, содержит ли слово заданную подстроку\n",
    "        print(word) # выводим слово на экран"
   ]
  },
  {
   "cell_type": "code",
   "execution_count": null,
   "id": "566b4186",
   "metadata": {},
   "outputs": [],
   "source": []
  }
 ],
 "metadata": {
  "kernelspec": {
   "display_name": "Python 3 (ipykernel)",
   "language": "python",
   "name": "python3"
  },
  "language_info": {
   "codemirror_mode": {
    "name": "ipython",
    "version": 3
   },
   "file_extension": ".py",
   "mimetype": "text/x-python",
   "name": "python",
   "nbconvert_exporter": "python",
   "pygments_lexer": "ipython3",
   "version": "3.9.13"
  }
 },
 "nbformat": 4,
 "nbformat_minor": 5
}
